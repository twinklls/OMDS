{
 "cells": [
  {
   "cell_type": "code",
   "execution_count": null,
   "id": "e0392320-e3f8-4e08-a7f2-373d91054cae",
   "metadata": {
    "jupyter": {
     "source_hidden": true
    }
   },
   "outputs": [],
   "source": []
  },
  {
   "cell_type": "markdown",
   "id": "48a74b5e-5180-4544-86a0-b047a877eb8e",
   "metadata": {},
   "source": [
    "# Week 1 - Preprocessing\n",
    "\n",
    "## Please run the cells of the notebook as you get to them while reading"
   ]
  },
  {
   "cell_type": "code",
   "execution_count": 32,
   "id": "5c24f12c-b364-40f0-b295-7c1ba88be680",
   "metadata": {},
   "outputs": [],
   "source": [
    "import pandas as pd\n",
    "import numpy as np\n",
    "from datetime import datetime, timedelta"
   ]
  },
  {
   "cell_type": "markdown",
   "id": "23c513ee-9d2b-408f-bbcd-33fa70a299e8",
   "metadata": {},
   "source": [
    "# 1. Lesson on how to search for Python commands\n",
    "\n",
    "Let's consider a few possible ways to learn about Python programming.  Let's suppose you want to learn how to produce a short summary of the information in your DataFrame.\n",
    "\n",
    "1. Your **instructor** could provide the information.\n",
    "\n",
    "You could be provided with a lesson about functions like info() and describe().  If you have a pandas DataFrame called df, then you can summarize its contents using df.info() or df.describe().  df.info() provides a list of column names with their counts and data types.  df.describe() will provide information such as the mean, min, max, standard deviation, and quantiles.  Thus:"
   ]
  },
  {
   "cell_type": "code",
   "execution_count": 33,
   "id": "33d97ef1-f92d-45a1-89e6-efea4d42ba75",
   "metadata": {},
   "outputs": [
    {
     "data": {
      "text/html": [
       "<div>\n",
       "<style scoped>\n",
       "    .dataframe tbody tr th:only-of-type {\n",
       "        vertical-align: middle;\n",
       "    }\n",
       "\n",
       "    .dataframe tbody tr th {\n",
       "        vertical-align: top;\n",
       "    }\n",
       "\n",
       "    .dataframe thead th {\n",
       "        text-align: right;\n",
       "    }\n",
       "</style>\n",
       "<table border=\"1\" class=\"dataframe\">\n",
       "  <thead>\n",
       "    <tr style=\"text-align: right;\">\n",
       "      <th></th>\n",
       "      <th>A</th>\n",
       "      <th>B</th>\n",
       "    </tr>\n",
       "  </thead>\n",
       "  <tbody>\n",
       "    <tr>\n",
       "      <th>count</th>\n",
       "      <td>4.000000</td>\n",
       "      <td>4.000000</td>\n",
       "    </tr>\n",
       "    <tr>\n",
       "      <th>mean</th>\n",
       "      <td>2.500000</td>\n",
       "      <td>5.500000</td>\n",
       "    </tr>\n",
       "    <tr>\n",
       "      <th>std</th>\n",
       "      <td>1.290994</td>\n",
       "      <td>1.290994</td>\n",
       "    </tr>\n",
       "    <tr>\n",
       "      <th>min</th>\n",
       "      <td>1.000000</td>\n",
       "      <td>4.000000</td>\n",
       "    </tr>\n",
       "    <tr>\n",
       "      <th>25%</th>\n",
       "      <td>1.750000</td>\n",
       "      <td>4.750000</td>\n",
       "    </tr>\n",
       "    <tr>\n",
       "      <th>50%</th>\n",
       "      <td>2.500000</td>\n",
       "      <td>5.500000</td>\n",
       "    </tr>\n",
       "    <tr>\n",
       "      <th>75%</th>\n",
       "      <td>3.250000</td>\n",
       "      <td>6.250000</td>\n",
       "    </tr>\n",
       "    <tr>\n",
       "      <th>max</th>\n",
       "      <td>4.000000</td>\n",
       "      <td>7.000000</td>\n",
       "    </tr>\n",
       "  </tbody>\n",
       "</table>\n",
       "</div>"
      ],
      "text/plain": [
       "              A         B\n",
       "count  4.000000  4.000000\n",
       "mean   2.500000  5.500000\n",
       "std    1.290994  1.290994\n",
       "min    1.000000  4.000000\n",
       "25%    1.750000  4.750000\n",
       "50%    2.500000  5.500000\n",
       "75%    3.250000  6.250000\n",
       "max    4.000000  7.000000"
      ]
     },
     "execution_count": 33,
     "metadata": {},
     "output_type": "execute_result"
    }
   ],
   "source": [
    "df = pd.DataFrame([[1, 4], [2, 5], [3, 6], [4, 7]], columns = ['A', 'B'])\n",
    "df.describe()"
   ]
  },
  {
   "cell_type": "markdown",
   "id": "6541ee48-fb69-40d5-8b39-8f1b02918a9e",
   "metadata": {},
   "source": [
    "In this describe() result, we see that the two columns A and B each have four elements.  The means and other statistics are shown.\n",
    "\n",
    "2. You could look up the information on **Google**.\n",
    "\n",
    "If I Google the question \"how do I briefly summarize the contents of a dataframe using Python,\" I receive the following link (among others), which discusses the describe() command mentioned above:\n",
    "\n",
    "https://www.w3schools.com/python/pandas/ref_df_describe.asp\n",
    "\n",
    "It also provide the complete usage information:\n",
    "\n",
    "dataframe.describe(percentiles, include, exclude, datetime_is_numeric)\n",
    "\n",
    "It explains that \"percentiles\" is set by default to [0.25, 0.5, 0.75] but we could change that.  Let's try it!  Since there are three intervals here rather than four, it might be more meaningful to ask about a 33rd and 67th percentile rather than 25, 50, and 75.  We can use 1/3 for 0.33 and 2/3 for 0.67 to get the exact percentile values."
   ]
  },
  {
   "cell_type": "code",
   "execution_count": 34,
   "id": "3aea76dd-f492-4bbe-9431-8e1a41cf0db9",
   "metadata": {},
   "outputs": [
    {
     "data": {
      "text/html": [
       "<div>\n",
       "<style scoped>\n",
       "    .dataframe tbody tr th:only-of-type {\n",
       "        vertical-align: middle;\n",
       "    }\n",
       "\n",
       "    .dataframe tbody tr th {\n",
       "        vertical-align: top;\n",
       "    }\n",
       "\n",
       "    .dataframe thead th {\n",
       "        text-align: right;\n",
       "    }\n",
       "</style>\n",
       "<table border=\"1\" class=\"dataframe\">\n",
       "  <thead>\n",
       "    <tr style=\"text-align: right;\">\n",
       "      <th></th>\n",
       "      <th>A</th>\n",
       "      <th>B</th>\n",
       "    </tr>\n",
       "  </thead>\n",
       "  <tbody>\n",
       "    <tr>\n",
       "      <th>count</th>\n",
       "      <td>4.000000</td>\n",
       "      <td>4.000000</td>\n",
       "    </tr>\n",
       "    <tr>\n",
       "      <th>mean</th>\n",
       "      <td>2.500000</td>\n",
       "      <td>5.500000</td>\n",
       "    </tr>\n",
       "    <tr>\n",
       "      <th>std</th>\n",
       "      <td>1.290994</td>\n",
       "      <td>1.290994</td>\n",
       "    </tr>\n",
       "    <tr>\n",
       "      <th>min</th>\n",
       "      <td>1.000000</td>\n",
       "      <td>4.000000</td>\n",
       "    </tr>\n",
       "    <tr>\n",
       "      <th>33.3%</th>\n",
       "      <td>2.000000</td>\n",
       "      <td>5.000000</td>\n",
       "    </tr>\n",
       "    <tr>\n",
       "      <th>50%</th>\n",
       "      <td>2.500000</td>\n",
       "      <td>5.500000</td>\n",
       "    </tr>\n",
       "    <tr>\n",
       "      <th>66.7%</th>\n",
       "      <td>3.000000</td>\n",
       "      <td>6.000000</td>\n",
       "    </tr>\n",
       "    <tr>\n",
       "      <th>max</th>\n",
       "      <td>4.000000</td>\n",
       "      <td>7.000000</td>\n",
       "    </tr>\n",
       "  </tbody>\n",
       "</table>\n",
       "</div>"
      ],
      "text/plain": [
       "              A         B\n",
       "count  4.000000  4.000000\n",
       "mean   2.500000  5.500000\n",
       "std    1.290994  1.290994\n",
       "min    1.000000  4.000000\n",
       "33.3%  2.000000  5.000000\n",
       "50%    2.500000  5.500000\n",
       "66.7%  3.000000  6.000000\n",
       "max    4.000000  7.000000"
      ]
     },
     "execution_count": 34,
     "metadata": {},
     "output_type": "execute_result"
    }
   ],
   "source": [
    "df = pd.DataFrame([[1, 4], [2, 5], [3, 6], [4, 7]], columns = ['A', 'B'])\n",
    "df.describe(percentiles = [1/3, 2/3])"
   ]
  },
  {
   "cell_type": "markdown",
   "id": "6cd06ce3-edf9-4786-982d-5650fc22ca58",
   "metadata": {},
   "source": [
    "Apparently, the 50% value (the median) stays even though we did not specifically request it.\n",
    "\n",
    "3. You could look up the official **documentation**.\n",
    "\n",
    "Now that we know we want the pandas describe() function, try Googling: pandas documentation describe.\n",
    "\n",
    "Here is the general documentation page for pandas:\n",
    "\n",
    "https://pandas.pydata.org/docs/index.html\n",
    "\n",
    "Here is the specific page for the describe() function:\n",
    "\n",
    "https://pandas.pydata.org/docs/reference/api/pandas.DataFrame.describe.html\n",
    "\n",
    "When I look at this, it appears to be showing the most recent (currently 2.2) version of pandas; this is shown in the upper right corner.\n",
    "\n",
    "4. You could also ask **ChatGPT**.\n",
    "\n",
    "Let's try it.  ChatGPT, \"how do I briefly summarize the contents of a dataframe using Python\"\n",
    "\n",
    "When I do this, ChatGPT mentions describe() among other options, but does not go into detail.  However, I could ask it.  ChatGPT, \"tell me more about describe() in Python for summarizing dataframes.\"\n",
    "\n",
    "Then, I get a good explanation of describe(), although it does not mention the percentiles option.  One advantage of using Google or the documentation in addition of ChatGPT is that these sources may provide interesting information that does not directly answer our question.  Thus, we might not have known about the various arguments, such as percentiles, if we only used ChatGPT.  A second issue is that ChatGPT sometimes hallucinates (it makes up information).  In general, by examining multiple sources - Google, documentation, and ChatGPT - we can get more information."
   ]
  },
  {
   "cell_type": "markdown",
   "id": "1cede07d-03a8-4c36-b5ca-67619bbfd365",
   "metadata": {},
   "source": [
    "# 2. Weekly graph question"
   ]
  },
  {
   "cell_type": "markdown",
   "id": "4a71d462-12df-4b94-b34f-4d43e4d289d7",
   "metadata": {},
   "source": [
    "In Storytelling With Data, on page 1: examine the pie chart graph in the upper left corner of the graphs.  Please write a short explanation of the pros and cons of this graph.  What do you think of the choice of pie chart as a format?  The color scheme?  The legend?  The title?  How would you draw it differently if you were creating this graph?"
   ]
  },
  {
   "cell_type": "markdown",
   "id": "6913748b",
   "metadata": {},
   "source": [
    "#### Answer - \n",
    "\n",
    "Pros:\n",
    "\n",
    "- Quickly communicates proportions at a glance.\n",
    "- Simple and familiar visualization for audiences.\n",
    "\n",
    "Cons:\n",
    "\n",
    "- Difficult to compare slices accurately, especially with similar-sized segments.\n",
    "- Limited effectiveness for large datasets or fine-grained details.\n",
    "\n",
    "Analysis:\n",
    "\n",
    "- Choice of Format: A pie chart is not ideal for precise comparisons; a bar chart might better represent the data.\n",
    "- Color Scheme: The colors are distinct, but using more neutral tones or a gradient could reduce visual clutter.\n",
    "- Legend: A legend makes interpretation slower. Direct labeling on the slices would improve readability.\n",
    "- Title: Clear and descriptive but could be more engaging.\n",
    "\n",
    "Suggested Improvement: I would use a horizontal bar chart, sorting values from largest to smallest for easier comparison, and add a succinct, action-oriented title to enhance clarity."
   ]
  },
  {
   "cell_type": "markdown",
   "id": "52a54048-d621-47b9-aa65-4b46d9c3bb4c",
   "metadata": {},
   "source": [
    "# 3. Homework - Bank Customers\n",
    "\n",
    "I will begin by creating a file for you to analyze.  I will show you all of the steps I used to create it.  Please run this code in order to create and save a file about bank customers.\n",
    "\n",
    "### The numbered problems are for you to solve."
   ]
  },
  {
   "cell_type": "code",
   "execution_count": 35,
   "id": "2950b5f1-9ab8-452f-b9d7-31ce82bbf698",
   "metadata": {},
   "outputs": [],
   "source": [
    "num_customers = 100\n",
    "np.random.seed(0)"
   ]
  },
  {
   "cell_type": "code",
   "execution_count": null,
   "id": "95561d16-3aac-4537-841a-835272775080",
   "metadata": {},
   "outputs": [],
   "source": [
    "# example\n",
    "df_bank = pd.DataFrame(columns = [\"CustomerID\"])"
   ]
  },
  {
   "cell_type": "code",
   "execution_count": 37,
   "id": "3e84ff91-47c6-4788-b56b-1d63a2b06a33",
   "metadata": {},
   "outputs": [],
   "source": [
    "df_bank[\"CustomerID\"] = [str(x) for x in np.arange(num_customers)]"
   ]
  },
  {
   "cell_type": "code",
   "execution_count": 38,
   "id": "5983f3fb-8341-4bb0-92be-850dd712c853",
   "metadata": {},
   "outputs": [],
   "source": [
    "start = datetime(1950, 1, 1)\n",
    "end = datetime(2024, 1, 1)\n",
    "numdays = (end - start).days\n",
    "random_days = np.random.randint(0, numdays, size = num_customers)\n",
    "df_bank[\"BirthDate\"] = start + pd.to_timedelta(random_days, unit='D')\n",
    "df_bank[\"BirthDate\"] = df_bank[\"BirthDate\"].dt.strftime('%Y-%m-%d')"
   ]
  },
  {
   "cell_type": "code",
   "execution_count": 39,
   "id": "64adeb78-6b2c-46df-a4f0-8aee5fa75f83",
   "metadata": {},
   "outputs": [],
   "source": [
    "def make_ssn_string(num):\n",
    "    ssn_str = f'{num:09}'\n",
    "    return ssn_str[0:3] + \"-\" + ssn_str[3:5] + \"-\" + ssn_str[5:9]\n",
    "ssn_vector_func = np.vectorize(make_ssn_string)\n",
    "df_bank[\"SSN\"] = ssn_vector_func(np.random.randint(0, 999999999, size = num_customers))"
   ]
  },
  {
   "cell_type": "code",
   "execution_count": 40,
   "id": "0a8e00bb-2f97-4e11-a95f-138baf44206e",
   "metadata": {},
   "outputs": [],
   "source": [
    "df_bank[\"AccountID\"] = np.random.randint(0, num_customers, size = num_customers)"
   ]
  },
  {
   "cell_type": "code",
   "execution_count": 41,
   "id": "bc41db6c-9e4a-4efc-af0d-9f921bb77ec7",
   "metadata": {},
   "outputs": [],
   "source": [
    "random_days = np.random.randint(0, 365 * 80, size = num_customers)\n",
    "df_bank[\"AccountOpened\"] = (pd.to_datetime(df_bank[\"BirthDate\"]) + pd.to_timedelta(random_days, unit='D')).dt.strftime('%Y-%m-%d')"
   ]
  },
  {
   "cell_type": "code",
   "execution_count": 42,
   "id": "cd2ddf02-7ef2-485a-8d1a-1049b30630dd",
   "metadata": {},
   "outputs": [],
   "source": [
    "df_bank.loc[0, \"BirthDate\"] = \"1980\"\n",
    "df_bank.loc[1, \"BirthDate\"] = \"no date\""
   ]
  },
  {
   "cell_type": "code",
   "execution_count": 43,
   "id": "e5e52d8f-10b5-433f-bcfa-9d50232041e0",
   "metadata": {},
   "outputs": [],
   "source": [
    "df_bank.loc[2, \"AccountID\"] = np.nan"
   ]
  },
  {
   "cell_type": "code",
   "execution_count": 44,
   "id": "bdb0d5e7-1bcb-48f0-ab70-c7c3d4b8bfce",
   "metadata": {},
   "outputs": [],
   "source": [
    "df_bank[\"AccountType\"] = np.random.choice([\"checking\", \"savings\", \"cd\"], size = num_customers)"
   ]
  },
  {
   "cell_type": "markdown",
   "id": "314a2bef-d599-4599-b555-7a01c2cd3fb3",
   "metadata": {},
   "source": [
    "Load the bank_customers.csv file.  (There is no practical reason to save it, then load it - we're just demonstrating how this would be done.)\n",
    "I am calling the loaded df by a new name, df_bank_loaded, to make clear why it's not the same variable as the old df.  Of course, in actuality the two contain the exact same data!  But it's good to get in the habit of naming things carefully."
   ]
  },
  {
   "cell_type": "code",
   "execution_count": 45,
   "id": "15dea7e7-619d-4d3f-aa72-712f3da7d384",
   "metadata": {},
   "outputs": [],
   "source": [
    "df_bank.loc[num_customers - 1] = df.loc[0]\n",
    "df_bank.to_csv(\"bank_customers.csv\", index=False)"
   ]
  },
  {
   "cell_type": "code",
   "execution_count": 46,
   "id": "faf79336-ba67-446e-8220-e77534c4c949",
   "metadata": {},
   "outputs": [],
   "source": [
    "df_bank_loaded = pd.read_csv(\"bank_customers.csv\")"
   ]
  },
  {
   "cell_type": "markdown",
   "id": "380145bb-e051-418d-b3d2-ad032cab375b",
   "metadata": {},
   "source": [
    "1. Use describe() and info() to analyze the data.   Also, look at the first few rows."
   ]
  },
  {
   "cell_type": "markdown",
   "id": "8897936c-9af9-4344-bdb7-6290d8b34bce",
   "metadata": {},
   "source": [
    "Suggested Google Search or ChatGPT prompt: \"how do I use the describe function in python\"\n",
    "\n",
    "Example Google result: https://www.w3schools.com/python/pandas/ref_df_describe.asp"
   ]
  },
  {
   "cell_type": "code",
   "execution_count": 47,
   "id": "5fb74ed3-871e-41b6-99f5-da7eb3a37712",
   "metadata": {},
   "outputs": [
    {
     "data": {
      "text/html": [
       "<div>\n",
       "<style scoped>\n",
       "    .dataframe tbody tr th:only-of-type {\n",
       "        vertical-align: middle;\n",
       "    }\n",
       "\n",
       "    .dataframe tbody tr th {\n",
       "        vertical-align: top;\n",
       "    }\n",
       "\n",
       "    .dataframe thead th {\n",
       "        text-align: right;\n",
       "    }\n",
       "</style>\n",
       "<table border=\"1\" class=\"dataframe\">\n",
       "  <thead>\n",
       "    <tr style=\"text-align: right;\">\n",
       "      <th></th>\n",
       "      <th>CustomerID</th>\n",
       "      <th>BirthDate</th>\n",
       "      <th>SSN</th>\n",
       "      <th>AccountID</th>\n",
       "      <th>AccountOpened</th>\n",
       "      <th>AccountType</th>\n",
       "    </tr>\n",
       "  </thead>\n",
       "  <tbody>\n",
       "    <tr>\n",
       "      <th>0</th>\n",
       "      <td>0.0</td>\n",
       "      <td>1980</td>\n",
       "      <td>530-47-1866</td>\n",
       "      <td>4.0</td>\n",
       "      <td>1959-12-06</td>\n",
       "      <td>checking</td>\n",
       "    </tr>\n",
       "    <tr>\n",
       "      <th>1</th>\n",
       "      <td>1.0</td>\n",
       "      <td>no date</td>\n",
       "      <td>682-76-9175</td>\n",
       "      <td>67.0</td>\n",
       "      <td>2039-02-20</td>\n",
       "      <td>cd</td>\n",
       "    </tr>\n",
       "    <tr>\n",
       "      <th>2</th>\n",
       "      <td>2.0</td>\n",
       "      <td>1976-12-15</td>\n",
       "      <td>377-98-9839</td>\n",
       "      <td>NaN</td>\n",
       "      <td>2019-03-25</td>\n",
       "      <td>checking</td>\n",
       "    </tr>\n",
       "    <tr>\n",
       "      <th>3</th>\n",
       "      <td>3.0</td>\n",
       "      <td>2003-10-18</td>\n",
       "      <td>474-05-7613</td>\n",
       "      <td>86.0</td>\n",
       "      <td>2004-03-02</td>\n",
       "      <td>cd</td>\n",
       "    </tr>\n",
       "    <tr>\n",
       "      <th>4</th>\n",
       "      <td>4.0</td>\n",
       "      <td>1985-12-06</td>\n",
       "      <td>750-55-5509</td>\n",
       "      <td>77.0</td>\n",
       "      <td>2059-05-05</td>\n",
       "      <td>cd</td>\n",
       "    </tr>\n",
       "  </tbody>\n",
       "</table>\n",
       "</div>"
      ],
      "text/plain": [
       "   CustomerID   BirthDate          SSN  AccountID AccountOpened AccountType\n",
       "0         0.0        1980  530-47-1866        4.0    1959-12-06    checking\n",
       "1         1.0     no date  682-76-9175       67.0    2039-02-20          cd\n",
       "2         2.0  1976-12-15  377-98-9839        NaN    2019-03-25    checking\n",
       "3         3.0  2003-10-18  474-05-7613       86.0    2004-03-02          cd\n",
       "4         4.0  1985-12-06  750-55-5509       77.0    2059-05-05          cd"
      ]
     },
     "execution_count": 47,
     "metadata": {},
     "output_type": "execute_result"
    }
   ],
   "source": [
    "# The first few rows\n",
    "df_bank_loaded.iloc[0:5]"
   ]
  },
  {
   "cell_type": "markdown",
   "id": "e6062d1d-bf7f-4e81-8d19-60bd160c02d5",
   "metadata": {},
   "source": [
    "If you used describe() and info(), you now know that BirthDate and AccountOpened are strings.  But we want them to be dates.  Let's convert them to dates (or Timestamps in pandas).  When we try this, we get a ValueError."
   ]
  },
  {
   "cell_type": "code",
   "execution_count": 48,
   "id": "89e37c09-aee4-49f5-abc5-1e6ec9837b53",
   "metadata": {},
   "outputs": [
    {
     "name": "stdout",
     "output_type": "stream",
     "text": [
      "ValueError for BirthDate: time data \"1980\" doesn't match format \"%Y-%m-%d\", at position 0. You might want to try:\n",
      "    - passing `format` if your strings have a consistent format;\n",
      "    - passing `format='ISO8601'` if your strings are all ISO8601 but not necessarily in exactly the same format;\n",
      "    - passing `format='mixed'`, and the format will be inferred for each element individually. You might want to use `dayfirst` alongside this.\n"
     ]
    }
   ],
   "source": [
    "try:\n",
    "    df_bank_loaded[\"BirthDate\"] = pd.to_datetime(df_bank_loaded[\"BirthDate\"], format='%Y-%m-%d')\n",
    "    print(\"It worked!\")\n",
    "except ValueError as e:\n",
    "    print(f\"ValueError for BirthDate: {e}\")"
   ]
  },
  {
   "cell_type": "code",
   "execution_count": 49,
   "id": "dbcb584b-134b-475b-8fd4-70ca1ba7d03b",
   "metadata": {},
   "outputs": [
    {
     "name": "stdout",
     "output_type": "stream",
     "text": [
      "It worked!\n"
     ]
    }
   ],
   "source": [
    "try:\n",
    "    df_bank_loaded[\"AccountOpened\"] = pd.to_datetime(df_bank_loaded[\"AccountOpened\"], format='%Y-%m-%d')\n",
    "    print(\"It worked!\")\n",
    "except ValueError as e:\n",
    "    print(f\"ValueError for AccountOpened: {e}\")"
   ]
  },
  {
   "cell_type": "markdown",
   "id": "d64b1ccf-1001-40ab-b026-beae68b7fd19",
   "metadata": {},
   "source": [
    "The simple way to fix this is to remove the rows that have bad dates for BirthDate.  I Googled:\n",
    "\n",
    "\"How to remove rows from a dataframe that have poorly formatted dates using python\"\n",
    "\n",
    "https://stackoverflow.com/questions/21556744/pandas-remove-rows-whose-date-does-not-follow-specified-format\n",
    "\n",
    "This recommends that I verify that the date is a string of length 10, because YYYY-MM-DD has that length:\n",
    "\n",
    "df1\\[df1.BirthDate.str.len() !=10]"
   ]
  },
  {
   "cell_type": "code",
   "execution_count": 50,
   "id": "70ec53a1-2de5-48b5-9942-6857495e2b05",
   "metadata": {},
   "outputs": [
    {
     "data": {
      "text/plain": [
       "97"
      ]
     },
     "execution_count": 50,
     "metadata": {},
     "output_type": "execute_result"
    }
   ],
   "source": [
    "len(df_bank_loaded[df_bank_loaded.BirthDate.str.len() == 10])"
   ]
  },
  {
   "cell_type": "code",
   "execution_count": 51,
   "id": "a4edac07-185c-45ad-ba95-cca56bca0c7e",
   "metadata": {},
   "outputs": [
    {
     "data": {
      "text/html": [
       "<div>\n",
       "<style scoped>\n",
       "    .dataframe tbody tr th:only-of-type {\n",
       "        vertical-align: middle;\n",
       "    }\n",
       "\n",
       "    .dataframe tbody tr th {\n",
       "        vertical-align: top;\n",
       "    }\n",
       "\n",
       "    .dataframe thead th {\n",
       "        text-align: right;\n",
       "    }\n",
       "</style>\n",
       "<table border=\"1\" class=\"dataframe\">\n",
       "  <thead>\n",
       "    <tr style=\"text-align: right;\">\n",
       "      <th></th>\n",
       "      <th>CustomerID</th>\n",
       "      <th>BirthDate</th>\n",
       "      <th>SSN</th>\n",
       "      <th>AccountID</th>\n",
       "      <th>AccountOpened</th>\n",
       "      <th>AccountType</th>\n",
       "    </tr>\n",
       "  </thead>\n",
       "  <tbody>\n",
       "    <tr>\n",
       "      <th>0</th>\n",
       "      <td>0.0</td>\n",
       "      <td>1980</td>\n",
       "      <td>530-47-1866</td>\n",
       "      <td>4.0</td>\n",
       "      <td>1959-12-06</td>\n",
       "      <td>checking</td>\n",
       "    </tr>\n",
       "    <tr>\n",
       "      <th>1</th>\n",
       "      <td>1.0</td>\n",
       "      <td>no date</td>\n",
       "      <td>682-76-9175</td>\n",
       "      <td>67.0</td>\n",
       "      <td>2039-02-20</td>\n",
       "      <td>cd</td>\n",
       "    </tr>\n",
       "    <tr>\n",
       "      <th>99</th>\n",
       "      <td>NaN</td>\n",
       "      <td>NaN</td>\n",
       "      <td>NaN</td>\n",
       "      <td>NaN</td>\n",
       "      <td>NaT</td>\n",
       "      <td>NaN</td>\n",
       "    </tr>\n",
       "  </tbody>\n",
       "</table>\n",
       "</div>"
      ],
      "text/plain": [
       "    CustomerID BirthDate          SSN  AccountID AccountOpened AccountType\n",
       "0          0.0      1980  530-47-1866        4.0    1959-12-06    checking\n",
       "1          1.0   no date  682-76-9175       67.0    2039-02-20          cd\n",
       "99         NaN       NaN          NaN        NaN           NaT         NaN"
      ]
     },
     "execution_count": 51,
     "metadata": {},
     "output_type": "execute_result"
    }
   ],
   "source": [
    "df_bank_loaded[df_bank_loaded.BirthDate.str.len() != 10].iloc[0:5]"
   ]
  },
  {
   "cell_type": "markdown",
   "id": "2503d01f-0168-43f9-a271-6f529e47886f",
   "metadata": {},
   "source": [
    "Now we can make this permanent, creating a new DataFrame df_bank_datefix.\n",
    "I am making a copy in order to ensure that df_bank_datefix is a new DataFrame rather than being a slice of the old one."
   ]
  },
  {
   "cell_type": "code",
   "execution_count": 52,
   "id": "d1bed857-0d03-4091-9838-fd75227c63e3",
   "metadata": {},
   "outputs": [],
   "source": [
    "df_bank_datefix = df_bank_loaded[df_bank_loaded.BirthDate.str.len() == 10].copy()"
   ]
  },
  {
   "cell_type": "markdown",
   "id": "838e568e-a333-4d18-ba8d-84c2926191e8",
   "metadata": {},
   "source": [
    "Test again:"
   ]
  },
  {
   "cell_type": "code",
   "execution_count": 53,
   "id": "d8655d6a-0a79-42c4-891a-cb421d664ca0",
   "metadata": {},
   "outputs": [
    {
     "name": "stdout",
     "output_type": "stream",
     "text": [
      "It worked!\n"
     ]
    }
   ],
   "source": [
    "try:\n",
    "    df_bank_datefix[\"BirthDate\"] = pd.to_datetime(df_bank_datefix[\"BirthDate\"], format='%Y-%m-%d')\n",
    "    print(\"It worked!\")\n",
    "except ValueError as e:\n",
    "    print(f\"ValueError: {e}\")"
   ]
  },
  {
   "cell_type": "markdown",
   "id": "fa88b739-9481-46fd-a8bd-996ed0e0bc2f",
   "metadata": {},
   "source": [
    "2. To check that it worked, use a summary function that will tell you if the BirthDate field is now a datetime type"
   ]
  },
  {
   "cell_type": "code",
   "execution_count": 54,
   "id": "ce550219-274c-4e3c-953d-cdf920a37990",
   "metadata": {},
   "outputs": [
    {
     "name": "stdout",
     "output_type": "stream",
     "text": [
      "datetime64[ns]\n",
      "<class 'pandas.core.frame.DataFrame'>\n",
      "Index: 97 entries, 2 to 98\n",
      "Data columns (total 6 columns):\n",
      " #   Column         Non-Null Count  Dtype         \n",
      "---  ------         --------------  -----         \n",
      " 0   CustomerID     97 non-null     float64       \n",
      " 1   BirthDate      97 non-null     datetime64[ns]\n",
      " 2   SSN            97 non-null     object        \n",
      " 3   AccountID      96 non-null     float64       \n",
      " 4   AccountOpened  97 non-null     datetime64[ns]\n",
      " 5   AccountType    97 non-null     object        \n",
      "dtypes: datetime64[ns](2), float64(2), object(2)\n",
      "memory usage: 5.3+ KB\n"
     ]
    }
   ],
   "source": [
    "print(df_bank_datefix['BirthDate'].dtypes)\n",
    "df_bank_datefix.info()\n"
   ]
  },
  {
   "cell_type": "markdown",
   "id": "ed7ac0d0-be31-4c50-838d-f104463a8114",
   "metadata": {},
   "source": [
    "3. Check whether there are any null values in the DataFrame.  If so, remove those rows or (if you prefer) fill in the value with an appropriate number.\n",
    "\n",
    "First try at a Google search or ChatGPT prompt: \"how do I find out if there are any null values in a pandas DataFrame?\"\n",
    "\n",
    "This page gives an answer.  Unfortunately, it took my request too literally: it tells me only if there are any, and not which rows have them.  On reflection, that's not really what I want - I think I asked the wrong question.  I want to see the rows, not just _whether_ there are any.\n",
    "\n",
    "https://stackoverflow.com/questions/29530232/how-to-check-if-any-value-is-nan-in-a-pandas-dataframe\n",
    "\n",
    "ChatGPT likewise doesn't give the answer I want - because I asked the wrong question.\n",
    "\n",
    "Next try at a Google search or ChatGPT prompt: \"how do I check which rows have null values in a pandas DataFrame?\"\n",
    "\n",
    "This page gives an answer:\n",
    "\n",
    "https://stackoverflow.com/questions/36226083/how-to-find-which-columns-contain-any-nan-value-in-pandas-dataframe\n",
    "\n",
    "ChatGPT also gives a good answer.  I recommend looking at both of them!\n",
    "\n",
    "Now try it on your own:\n",
    "\n",
    "Suggested Google search or ChatGPT prompt: \"how do I remove rows with null values in a pandas DataFrame?\"\n",
    "\n",
    "Suggested Google search or ChatGPT prompt: \"how do I fill in null values in a pandas DataFrame?\""
   ]
  },
  {
   "cell_type": "code",
   "execution_count": 55,
   "id": "a8ffaf2e-a8b2-42a2-ad09-e014431fccea",
   "metadata": {},
   "outputs": [
    {
     "name": "stdout",
     "output_type": "stream",
     "text": [
      "CustomerID       0\n",
      "BirthDate        0\n",
      "SSN              0\n",
      "AccountID        1\n",
      "AccountOpened    0\n",
      "AccountType      0\n",
      "dtype: int64\n",
      "Rows with null values:\n",
      "   CustomerID  BirthDate          SSN  AccountID AccountOpened AccountType\n",
      "2         2.0 1976-12-15  377-98-9839        NaN    2019-03-25    checking\n"
     ]
    }
   ],
   "source": [
    "# Check for null values in the DataFrame\n",
    "print(df_bank_datefix.isnull().sum())  # Displays the count of nulls per column\n",
    "\n",
    "# Display rows with any null values\n",
    "null_rows = df_bank_datefix[df_bank_datefix.isnull().any(axis=1)]\n",
    "print(\"Rows with null values:\")\n",
    "print(null_rows)\n",
    "\n",
    "# Remove rows with any null values\n",
    "df_bank_datefix = df_bank_datefix.dropna()\n",
    "\n",
    "# Alternatively, modify the DataFrame in place\n",
    "df_bank_datefix.dropna(inplace=True)\n"
   ]
  },
  {
   "cell_type": "markdown",
   "id": "54ca88fe-0b67-473e-965f-7e5da13f2a02",
   "metadata": {},
   "source": [
    "4. Find out if there are any duplicate rows (two rows exactly the same).  List their row numbers.  Then remove the duplicates"
   ]
  },
  {
   "cell_type": "markdown",
   "id": "5abf0983-4861-486b-bfc0-942b6772c866",
   "metadata": {},
   "source": [
    "Suggested Google search or ChatGPT prompt: \"how can I find out if there are any duplicate rows in a DataFrame using Python\"\n",
    "\n",
    "Again, Google provides me with a page that addresses the question:\n",
    "\n",
    "https://saturncloud.io/blog/how-to-find-all-duplicate-rows-in-a-pandas-dataframe/\n",
    "\n",
    "To remove the duplicates, do this search: \"how can I remove the duplicate rows in a DataFrame using Python\"\n",
    "\n",
    "This leads me to the following documentation.\n",
    "\n",
    "https://pandas.pydata.org/docs/reference/api/pandas.DataFrame.drop_duplicates.html"
   ]
  },
  {
   "cell_type": "code",
   "execution_count": 56,
   "id": "acd1cc2f-2879-4839-8ac7-9b2bc306dfb5",
   "metadata": {},
   "outputs": [
    {
     "name": "stdout",
     "output_type": "stream",
     "text": [
      "Empty DataFrame\n",
      "Columns: [CustomerID, BirthDate, SSN, AccountID, AccountOpened, AccountType]\n",
      "Index: []\n",
      "Duplicate row indices: []\n"
     ]
    }
   ],
   "source": [
    "# Find duplicate rows\n",
    "duplicates = df_bank_datefix[df_bank_datefix.duplicated()]\n",
    "\n",
    "# Display the duplicate rows and their indices\n",
    "print(duplicates)\n",
    "print(\"Duplicate row indices:\", duplicates.index.tolist())\n"
   ]
  },
  {
   "cell_type": "markdown",
   "id": "cc5cd8a5-c8bd-498c-b8b5-25dd74cdd2c6",
   "metadata": {},
   "source": [
    "5. Check whether the customers all have unique AccountIDs.  If not, provide the first example of a non-unique AccountId."
   ]
  },
  {
   "cell_type": "markdown",
   "id": "9b4f3f46-b09e-4a48-a3f4-72e1d1ba77fc",
   "metadata": {},
   "source": [
    "Suggested Google search or ChatGPT prompt: \"how can I find the first non-unique item from a pandas Series in python\"\n",
    "\n",
    "By the way: why didn't I ask the question \"how can I check whether the customers all have unique AccountIDs\"?\n",
    "\n",
    "The problem would be that Google and ChatGPT don't know what \"customers\" you are talking about.  It's important to understand that the AccountIDs are a column of a DataFrame, and as such they are a Series.  Therefore, we should use the correct vocabulary and ask about a Series.  If you mess up and ask about a \"list\" instead of a Series, you _might_ get an answer that still works.  But it's better to get the vocabularly right.\n",
    "\n",
    "It's important to add \"in python\" because this task could be performed in many languages.\n",
    "\n",
    "ChatGPT gave me this suggestion: data[data.isin(data[data.duplicated()])].iloc[0]\n",
    "However, ChatGPT did not explain how this code worked and even claimed (falsely) that it was going to use the value_counts() function in the solution.  So although the code is correct, I personally found ChatGPT's answer very confusing.  You could, perhaps, ask ChatGPT to explain further how this code works.\n",
    "\n",
    "ChatGPT, \"How does this code work: data[data.isin(data[data.duplicated()])].iloc[0]\"\n",
    "\n",
    "On the other hand, Google leads me to the documentation for the duplicated() function:\n",
    "\n",
    "https://pandas.pydata.org/docs/reference/api/pandas.Series.duplicated.html\n",
    "\n",
    "Here, I can see that when I really need is data.duplicated(keep = False), where \"data\" should be the Series in question.  However, this just gives me a Series of boolean values indicating which ones are duplicates.  I have to somehow know that extracting the numerical values instead of a Series of booleans involves boolean indexing: data\\[data.duplicated(keep = False)].\n",
    "\n",
    "So as usual, I'd suggest that a combination of Google, documentation, and ChatGPT will give you the best information."
   ]
  },
  {
   "cell_type": "code",
   "execution_count": 59,
   "id": "d3825ba0-a790-42e0-94ad-df931dbad3cf",
   "metadata": {},
   "outputs": [
    {
     "name": "stdout",
     "output_type": "stream",
     "text": [
      "Are all AccountIDs unique? False\n",
      "First non-unique AccountID: 67.0\n"
     ]
    }
   ],
   "source": [
    "# Check if there are duplicate AccountIDs\n",
    "has_duplicates = df_bank_loaded['AccountID'].duplicated().any()\n",
    "print(\"Are all AccountIDs unique?\", not has_duplicates)\n",
    "\n",
    "# Find all duplicate AccountIDs\n",
    "duplicates = df_bank_loaded['AccountID'][df_bank_loaded['AccountID'].duplicated(keep=False)]\n",
    "\n",
    "# Get the first non-unique AccountID\n",
    "if not duplicates.empty:\n",
    "    first_non_unique = duplicates.iloc[0]\n",
    "    print(\"First non-unique AccountID:\", first_non_unique)\n",
    "else:\n",
    "    print(\"All AccountIDs are unique.\")\n"
   ]
  },
  {
   "cell_type": "markdown",
   "id": "ed68b682-fb52-4c2d-a172-5a76aa31395b",
   "metadata": {},
   "source": [
    "6. Count how many distinct AccountIDs there are."
   ]
  },
  {
   "cell_type": "markdown",
   "id": "754c31c5-e1d2-4387-bbe8-d156e731483a",
   "metadata": {},
   "source": [
    "Suggested Google search or ChatGPT prompt: \"how can I find out how many distinct items there are in a pandas Series using python\"\n",
    "\n",
    "This time Google provides me with a page that's specifically made to answer this question:\n",
    "\n",
    "https://www.geeksforgeeks.org/how-to-count-distinct-values-of-a-pandas-dataframe-column/"
   ]
  },
  {
   "cell_type": "code",
   "execution_count": 60,
   "id": "3a5c497f-acca-4bea-b693-9e628ce40c8f",
   "metadata": {},
   "outputs": [
    {
     "name": "stdout",
     "output_type": "stream",
     "text": [
      "Number of distinct AccountIDs: 64\n"
     ]
    }
   ],
   "source": [
    "# Count the number of distinct AccountIDs\n",
    "distinct_count = df_bank_loaded['AccountID'].nunique()\n",
    "print(\"Number of distinct AccountIDs:\", distinct_count)\n"
   ]
  },
  {
   "cell_type": "markdown",
   "id": "85058f11-6222-4511-92f6-537be74c4807",
   "metadata": {},
   "source": [
    "7. Remove the duplicate AccountIDs so that each AccountID appears only once.\n",
    "\n",
    "This will involve using data.duplicated() but this time without keep = False.  We don't want to drop all duplicates; we want to leave one example of each value."
   ]
  },
  {
   "cell_type": "code",
   "execution_count": 61,
   "id": "d904a7ec-a21c-498b-bd1c-1b8415a48f2a",
   "metadata": {},
   "outputs": [
    {
     "name": "stdout",
     "output_type": "stream",
     "text": [
      "    CustomerID   BirthDate          SSN  AccountID AccountOpened AccountType\n",
      "0          0.0        1980  530-47-1866        4.0    1959-12-06    checking\n",
      "1          1.0     no date  682-76-9175       67.0    2039-02-20          cd\n",
      "2          2.0  1976-12-15  377-98-9839        NaN    2019-03-25    checking\n",
      "3          3.0  2003-10-18  474-05-7613       86.0    2004-03-02          cd\n",
      "4          4.0  1985-12-06  750-55-5509       77.0    2059-05-05          cd\n",
      "..         ...         ...          ...        ...           ...         ...\n",
      "88        88.0  1962-02-07  327-09-3267       97.0    1989-10-03          cd\n",
      "90        90.0  1969-06-18  395-31-7064       34.0    2010-12-28    checking\n",
      "94        94.0  1969-03-14  958-12-8308        5.0    2037-04-03     savings\n",
      "95        95.0  1975-09-23  607-97-1651       36.0    2011-07-24    checking\n",
      "96        96.0  1989-03-09  870-80-0364        0.0    2054-11-01          cd\n",
      "\n",
      "[65 rows x 6 columns]\n"
     ]
    }
   ],
   "source": [
    "# Remove duplicate AccountIDs, keeping the first occurrence of each\n",
    "df_bank_loaded = df_bank_loaded[~df_bank_loaded['AccountID'].duplicated()]\n",
    "\n",
    "# Alternatively, use drop_duplicates()\n",
    "df_bank_loaded = df_bank_loaded.drop_duplicates(subset='AccountID', keep='first')\n",
    "\n",
    "# View the updated DataFrame\n",
    "print(df_bank_loaded)\n"
   ]
  },
  {
   "cell_type": "markdown",
   "id": "a3b55f40-7b54-462c-82a5-05960d970365",
   "metadata": {},
   "source": [
    "8. What are the mean, median, and mode customer age in years?  (Rounding down to the next lower age.)\n",
    "Are there any outliers?  (Customers with very large or very small ages, compared with the other ages?)"
   ]
  },
  {
   "cell_type": "markdown",
   "id": "48b8cb00-e676-4b21-9211-06f26edf5a61",
   "metadata": {},
   "source": [
    "Suggested Google search or ChatGPT prompt: \"how can I find out the mean, median, and mode of a pandas Series\""
   ]
  },
  {
   "cell_type": "code",
   "execution_count": 71,
   "id": "85f19f17",
   "metadata": {},
   "outputs": [
    {
     "name": "stdout",
     "output_type": "stream",
     "text": [
      "Mean Age: 34.0\n",
      "Median Age: 34.0\n",
      "Mode Age: 29\n",
      "Outliers:\n",
      "Empty DataFrame\n",
      "Columns: [CustomerID, BirthDate, SSN, AccountID, AccountOpened, AccountType, CustomerAge]\n",
      "Index: []\n",
      "Lower Bound: -24.5, Upper Bound: 95.5\n"
     ]
    }
   ],
   "source": [
    "from datetime import datetime\n",
    "import numpy as np\n",
    "import pandas as pd\n",
    "\n",
    "# Ensure 'BirthDate' is converted to datetime\n",
    "df_bank_datefix['BirthDate'] = pd.to_datetime(df_bank_datefix['BirthDate'], errors='coerce')\n",
    "\n",
    "# Calculate 'CustomerAge' from 'BirthDate'\n",
    "current_year = datetime.now().year\n",
    "df_bank_datefix['CustomerAge'] = current_year - df_bank_datefix['BirthDate'].dt.year\n",
    "\n",
    "# Drop rows with missing or invalid 'BirthDate'\n",
    "df_bank_datefix = df_bank_datefix.dropna(subset=['CustomerAge'])\n",
    "\n",
    "# Calculate mean, median, and mode (rounded down)\n",
    "mean_age = np.floor(df_bank_datefix['CustomerAge'].mean())\n",
    "median_age = np.floor(df_bank_datefix['CustomerAge'].median())\n",
    "mode_age = np.floor(df_bank_datefix['CustomerAge'].mode()[0])\n",
    "\n",
    "print(f\"Mean Age: {mean_age}\")\n",
    "print(f\"Median Age: {median_age}\")\n",
    "print(f\"Mode Age: {mode_age}\")\n",
    "\n",
    "# Calculate the Interquartile Range (IQR)\n",
    "Q1 = df_bank_datefix['CustomerAge'].quantile(0.25)  # 25th percentile\n",
    "Q3 = df_bank_datefix['CustomerAge'].quantile(0.75)  # 75th percentile\n",
    "IQR = Q3 - Q1\n",
    "\n",
    "# Define the outlier boundaries\n",
    "lower_bound = Q1 - 1.5 * IQR\n",
    "upper_bound = Q3 + 1.5 * IQR\n",
    "\n",
    "# Identify rows with outliers\n",
    "outliers = df_bank_datefix[(df_bank_datefix['CustomerAge'] < lower_bound) | \n",
    "                           (df_bank_datefix['CustomerAge'] > upper_bound)]\n",
    "\n",
    "# Print the outliers\n",
    "print(\"Outliers:\")\n",
    "print(outliers)\n",
    "\n",
    "# Print the bounds for reference\n",
    "print(f\"Lower Bound: {lower_bound}, Upper Bound: {upper_bound}\")\n",
    "\n"
   ]
  },
  {
   "cell_type": "markdown",
   "id": "b2cc3e88-aa16-4748-bf2d-b4c9672c7170",
   "metadata": {},
   "source": [
    "9. One-hot encode the AccountType column.  This means creating a new \"checking,\" \"savings\", and \"cd\" columns so that you can run machine learning algorithms."
   ]
  },
  {
   "cell_type": "code",
   "execution_count": 77,
   "id": "3ef9c041-9c44-4130-beec-c701ca1117a8",
   "metadata": {},
   "outputs": [
    {
     "name": "stdout",
     "output_type": "stream",
     "text": [
      "   CustomerID  BirthDate          SSN  AccountID AccountOpened  CustomerAge  \\\n",
      "3         3.0 2003-10-18  474-05-7613       86.0    2004-03-02           22   \n",
      "4         4.0 1985-12-06  750-55-5509       77.0    2059-05-05           40   \n",
      "5         5.0 2008-02-29  671-43-0485       75.0    2025-05-03           17   \n",
      "6         6.0 1975-04-05  288-62-9296       56.0    2048-09-21           50   \n",
      "7         7.0 2016-06-18  593-49-1249       16.0    2087-07-24            9   \n",
      "\n",
      "      cd  checking  savings  \n",
      "3   True     False    False  \n",
      "4   True     False    False  \n",
      "5  False      True    False  \n",
      "6  False     False     True  \n",
      "7  False     False     True  \n"
     ]
    }
   ],
   "source": [
    "# Perform one-hot encoding on the 'AccountType' column\n",
    "df_encoded = pd.get_dummies(df_bank_datefix, columns=['AccountType'], prefix='', prefix_sep='')\n",
    "\n",
    "# Display the resulting DataFrame\n",
    "print(df_encoded.head())\n",
    "\n",
    "\n"
   ]
  },
  {
   "cell_type": "markdown",
   "id": "55874415-e923-4179-86ea-502458cbcd7e",
   "metadata": {},
   "source": [
    "Now, change the cd, checking, and savings columns into integers."
   ]
  },
  {
   "cell_type": "code",
   "execution_count": 78,
   "id": "edda21a5-bb8c-4824-b320-1416dd807fc0",
   "metadata": {},
   "outputs": [
    {
     "name": "stdout",
     "output_type": "stream",
     "text": [
      "checking    int64\n",
      "savings     int64\n",
      "cd          int64\n",
      "dtype: object\n"
     ]
    }
   ],
   "source": [
    "# Convert the one-hot encoded columns to integers\n",
    "df_encoded['checking'] = df_encoded['checking'].astype(int)\n",
    "df_encoded['savings'] = df_encoded['savings'].astype(int)\n",
    "df_encoded['cd'] = df_encoded['cd'].astype(int)\n",
    "\n",
    "# Verify the data types\n",
    "print(df_encoded[['checking', 'savings', 'cd']].dtypes)"
   ]
  },
  {
   "cell_type": "markdown",
   "id": "5e884d3e-1d76-42a2-9b2e-86471286aa51",
   "metadata": {},
   "source": [
    "10. Are there any other data values that do not seem right?  If not, give an example?"
   ]
  },
  {
   "cell_type": "markdown",
   "id": "5c08a456-ae6d-4c79-8ca6-41f28d5cff20",
   "metadata": {},
   "source": [
    "I don't think Google or ChatGPT alone will help you here.  To answer the question, look at the columns and think about what relationships they should have with each other.  For example, it seems reasonable to expect that BirthDate would be no earlier than 120 years ago (it's unlikely that a customer would be this old.)  Now we can ask Google:\n",
    "\n",
    "\"How can I find out how long ago a pandas date is\"\n",
    "\n",
    "Google provides this helpful link, although it is not exactly the solution - you'll have to work with it a bit:\n",
    "\n",
    "https://stackoverflow.com/questions/26072087/pandas-number-of-days-elapsed-since-a-certain-date\n",
    "\n",
    "If you check, I think you'll find that all dates are more recent than 120 years ago.  What about the AccountOpened columns?  I see some obviously wrong dates there just by looking at the first few rows.\n",
    "\n",
    "Along those same lines, are there any birth dates that are too recent?  Do we think that any two year olds will have opened bank accounts?  How common do you think this is in real life?  How common is it in our data set?  Can you detect the two year olds opening bank accounts using just one column, or do you need two columns?"
   ]
  },
  {
   "cell_type": "code",
   "execution_count": 82,
   "id": "6bd592e0",
   "metadata": {},
   "outputs": [
    {
     "name": "stdout",
     "output_type": "stream",
     "text": [
      "Customers older than 120 years:\n",
      "Empty DataFrame\n",
      "Columns: [CustomerID, BirthDate, SSN, AccountID, AccountOpened, AccountType, CustomerAge]\n",
      "Index: []\n",
      "Customers younger than 18 years:\n",
      "    CustomerID  BirthDate          SSN  AccountID AccountOpened AccountType  \\\n",
      "5          5.0 2008-02-29  671-43-0485       75.0    2025-05-03    checking   \n",
      "7          7.0 2016-06-18  593-49-1249       16.0    2087-07-24     savings   \n",
      "9          9.0 2010-12-10  844-31-4793       29.0    2048-06-01    checking   \n",
      "21        21.0 2016-02-16  972-63-5997       13.0    2077-03-09          cd   \n",
      "23        23.0 2021-12-11  939-09-9746       56.0    2071-09-01          cd   \n",
      "37        37.0 2017-07-23  991-68-0187       88.0    2094-12-17    checking   \n",
      "44        44.0 2018-06-12  275-51-1419       86.0    2095-12-10    checking   \n",
      "45        45.0 2015-04-10  931-24-3971       61.0    2078-11-23     savings   \n",
      "51        51.0 2013-03-02  038-52-1394       84.0    2014-05-09    checking   \n",
      "54        54.0 2017-09-13  403-47-1401       37.0    2066-06-21          cd   \n",
      "58        58.0 2011-10-04  770-07-1306       83.0    2050-11-27          cd   \n",
      "59        59.0 2019-06-26  119-05-0326       89.0    2065-03-29     savings   \n",
      "61        61.0 2023-03-31  040-18-6728       53.0    2068-01-17     savings   \n",
      "62        62.0 2022-08-23  719-02-2091       51.0    2090-07-02          cd   \n",
      "63        63.0 2014-08-18  396-60-6210       46.0    2077-12-30    checking   \n",
      "67        67.0 2019-05-11  392-50-0406       67.0    2036-06-20     savings   \n",
      "72        72.0 2008-07-03  371-57-0218       41.0    2023-01-17     savings   \n",
      "74        74.0 2023-01-19  086-36-1272        3.0    2093-12-24          cd   \n",
      "79        79.0 2014-09-16  628-96-2584       31.0    2067-03-24     savings   \n",
      "81        81.0 2023-12-26  299-00-8770       10.0    2029-12-29     savings   \n",
      "\n",
      "    CustomerAge  \n",
      "5            17  \n",
      "7             9  \n",
      "9            15  \n",
      "21            9  \n",
      "23            4  \n",
      "37            8  \n",
      "44            7  \n",
      "45           10  \n",
      "51           12  \n",
      "54            8  \n",
      "58           14  \n",
      "59            6  \n",
      "61            2  \n",
      "62            3  \n",
      "63           11  \n",
      "67            6  \n",
      "72           17  \n",
      "74            2  \n",
      "79           11  \n",
      "81            2  \n",
      "Accounts with future AccountOpened dates:\n",
      "    CustomerID  BirthDate          SSN  AccountID AccountOpened AccountType  \\\n",
      "4          4.0 1985-12-06  750-55-5509       77.0    2059-05-05          cd   \n",
      "5          5.0 2008-02-29  671-43-0485       75.0    2025-05-03    checking   \n",
      "6          6.0 1975-04-05  288-62-9296       56.0    2048-09-21     savings   \n",
      "7          7.0 2016-06-18  593-49-1249       16.0    2087-07-24     savings   \n",
      "8          8.0 2006-10-31  121-74-2917       24.0    2046-11-17     savings   \n",
      "9          9.0 2010-12-10  844-31-4793       29.0    2048-06-01    checking   \n",
      "11        11.0 1990-11-22  509-92-0704       25.0    2036-03-17     savings   \n",
      "15        15.0 2004-05-09  417-04-6784       83.0    2031-01-21          cd   \n",
      "16        16.0 1990-02-10  527-61-9953       33.0    2047-01-25          cd   \n",
      "17        17.0 1996-10-15  377-72-0498       32.0    2063-08-28    checking   \n",
      "18        18.0 2001-12-22  745-86-2436       70.0    2070-08-26          cd   \n",
      "21        21.0 2016-02-16  972-63-5997       13.0    2077-03-09          cd   \n",
      "23        23.0 2021-12-11  939-09-9746       56.0    2071-09-01          cd   \n",
      "24        24.0 1996-04-30  041-33-6362       24.0    2050-05-22          cd   \n",
      "26        26.0 1968-12-13  239-29-2784       41.0    2028-07-28          cd   \n",
      "31        31.0 1971-07-27  823-39-2138       11.0    2033-06-08     savings   \n",
      "32        32.0 2000-06-17  140-90-4818       38.0    2070-03-26          cd   \n",
      "35        35.0 1956-11-01  470-06-0415       95.0    2031-10-28    checking   \n",
      "36        36.0 1991-07-31  198-17-0647       44.0    2028-11-27          cd   \n",
      "37        37.0 2017-07-23  991-68-0187       88.0    2094-12-17    checking   \n",
      "38        38.0 1977-12-05  509-93-1650       24.0    2039-11-09          cd   \n",
      "41        41.0 1996-08-30  560-38-9694        3.0    2073-11-13     savings   \n",
      "42        42.0 1958-10-25  705-50-4163       76.0    2036-04-28          cd   \n",
      "43        43.0 1991-09-29  722-56-5854       35.0    2068-07-28     savings   \n",
      "44        44.0 2018-06-12  275-51-1419       86.0    2095-12-10    checking   \n",
      "45        45.0 2015-04-10  931-24-3971       61.0    2078-11-23     savings   \n",
      "48        48.0 2002-05-17  286-05-1043       43.0    2027-02-27          cd   \n",
      "49        49.0 2007-10-28  494-36-1748       32.0    2069-08-14    checking   \n",
      "50        50.0 1973-12-02  066-09-7361       11.0    2033-01-08     savings   \n",
      "52        52.0 1996-10-24  099-84-9627       10.0    2032-09-02    checking   \n",
      "53        53.0 2001-02-18  716-06-9646       54.0    2063-01-25    checking   \n",
      "54        54.0 2017-09-13  403-47-1401       37.0    2066-06-21          cd   \n",
      "55        55.0 1982-02-05  735-11-6346       28.0    2061-02-23    checking   \n",
      "57        57.0 1998-03-01  356-96-5412       27.0    2049-12-28    checking   \n",
      "58        58.0 2011-10-04  770-07-1306       83.0    2050-11-27          cd   \n",
      "59        59.0 2019-06-26  119-05-0326       89.0    2065-03-29     savings   \n",
      "60        60.0 1978-05-22  294-50-1419       23.0    2033-02-18    checking   \n",
      "61        61.0 2023-03-31  040-18-6728       53.0    2068-01-17     savings   \n",
      "62        62.0 2022-08-23  719-02-2091       51.0    2090-07-02          cd   \n",
      "63        63.0 2014-08-18  396-60-6210       46.0    2077-12-30    checking   \n",
      "65        65.0 2004-10-10  632-10-8112       53.0    2071-12-12    checking   \n",
      "67        67.0 2019-05-11  392-50-0406       67.0    2036-06-20     savings   \n",
      "68        68.0 1984-09-15  169-24-7872       35.0    2052-06-10    checking   \n",
      "69        69.0 1999-05-09  063-26-5574       39.0    2068-04-18    checking   \n",
      "73        73.0 2006-10-11  226-86-6547       23.0    2032-07-17          cd   \n",
      "74        74.0 2023-01-19  086-36-1272        3.0    2093-12-24          cd   \n",
      "77        77.0 1991-05-21  514-57-1853       50.0    2067-05-03     savings   \n",
      "79        79.0 2014-09-16  628-96-2584       31.0    2067-03-24     savings   \n",
      "80        80.0 2006-04-28  763-71-6221        9.0    2029-03-10     savings   \n",
      "81        81.0 2023-12-26  299-00-8770       10.0    2029-12-29     savings   \n",
      "83        83.0 1976-10-12  875-04-4958       45.0    2039-09-15          cd   \n",
      "84        84.0 2002-12-14  165-25-5019       71.0    2073-04-12          cd   \n",
      "85        85.0 1994-08-16  911-34-2861       39.0    2047-12-05     savings   \n",
      "86        86.0 1983-11-16  787-21-6240       61.0    2044-05-16     savings   \n",
      "89        89.0 1985-10-06  627-48-7327       44.0    2061-04-05    checking   \n",
      "91        91.0 1997-10-16  627-23-0106       34.0    2027-10-14    checking   \n",
      "94        94.0 1969-03-14  958-12-8308        5.0    2037-04-03     savings   \n",
      "96        96.0 1989-03-09  870-80-0364        0.0    2054-11-01          cd   \n",
      "98        98.0 1975-08-17  846-64-7054       34.0    2032-12-25     savings   \n",
      "\n",
      "    CustomerAge  \n",
      "4            40  \n",
      "5            17  \n",
      "6            50  \n",
      "7             9  \n",
      "8            19  \n",
      "9            15  \n",
      "11           35  \n",
      "15           21  \n",
      "16           35  \n",
      "17           29  \n",
      "18           24  \n",
      "21            9  \n",
      "23            4  \n",
      "24           29  \n",
      "26           57  \n",
      "31           54  \n",
      "32           25  \n",
      "35           69  \n",
      "36           34  \n",
      "37            8  \n",
      "38           48  \n",
      "41           29  \n",
      "42           67  \n",
      "43           34  \n",
      "44            7  \n",
      "45           10  \n",
      "48           23  \n",
      "49           18  \n",
      "50           52  \n",
      "52           29  \n",
      "53           24  \n",
      "54            8  \n",
      "55           43  \n",
      "57           27  \n",
      "58           14  \n",
      "59            6  \n",
      "60           47  \n",
      "61            2  \n",
      "62            3  \n",
      "63           11  \n",
      "65           21  \n",
      "67            6  \n",
      "68           41  \n",
      "69           26  \n",
      "73           19  \n",
      "74            2  \n",
      "77           34  \n",
      "79           11  \n",
      "80           19  \n",
      "81            2  \n",
      "83           49  \n",
      "84           23  \n",
      "85           31  \n",
      "86           42  \n",
      "89           40  \n",
      "91           28  \n",
      "94           56  \n",
      "96           36  \n",
      "98           50  \n",
      "Inconsistent ages and account opening dates:\n",
      "    CustomerID  BirthDate          SSN  AccountID AccountOpened AccountType  \\\n",
      "3          3.0 2003-10-18  474-05-7613       86.0    2004-03-02          cd   \n",
      "5          5.0 2008-02-29  671-43-0485       75.0    2025-05-03    checking   \n",
      "10        10.0 1988-08-25  857-15-1139       21.0    1998-01-04    checking   \n",
      "12        12.0 1992-03-31  698-04-7583       80.0    2008-09-07    checking   \n",
      "13        13.0 1993-05-07  304-91-3605       60.0    2001-02-26    checking   \n",
      "20        20.0 2000-12-10  953-24-6512       31.0    2009-08-31     savings   \n",
      "30        30.0 1963-04-14  168-31-0272       79.0    1970-04-19     savings   \n",
      "33        33.0 1955-02-15  986-06-7499       93.0    1967-11-11          cd   \n",
      "40        40.0 1952-03-08  291-98-5506       82.0    1953-05-05          cd   \n",
      "46        46.0 1994-09-08  826-66-1458       69.0    1997-05-02     savings   \n",
      "47        47.0 2003-12-30  279-98-4046       87.0    2015-12-17          cd   \n",
      "51        51.0 2013-03-02  038-52-1394       84.0    2014-05-09    checking   \n",
      "64        64.0 1966-06-27  566-06-7507       20.0    1977-05-08    checking   \n",
      "66        66.0 1959-10-01  929-11-8240       29.0    1962-08-06          cd   \n",
      "67        67.0 2019-05-11  392-50-0406       67.0    2036-06-20     savings   \n",
      "72        72.0 2008-07-03  371-57-0218       41.0    2023-01-17     savings   \n",
      "78        78.0 1973-08-10  020-16-6942        3.0    1990-01-24     savings   \n",
      "81        81.0 2023-12-26  299-00-8770       10.0    2029-12-29     savings   \n",
      "82        82.0 2002-02-20  085-93-3571       27.0    2014-12-14     savings   \n",
      "87        87.0 2001-01-08  026-22-8040       85.0    2015-05-15     savings   \n",
      "92        92.0 1989-03-21  310-31-9554       88.0    1991-03-23     savings   \n",
      "\n",
      "    CustomerAge  AccountOpenedYear  \n",
      "3            22               2004  \n",
      "5            17               2025  \n",
      "10           37               1998  \n",
      "12           33               2008  \n",
      "13           32               2001  \n",
      "20           25               2009  \n",
      "30           62               1970  \n",
      "33           70               1967  \n",
      "40           73               1953  \n",
      "46           31               1997  \n",
      "47           22               2015  \n",
      "51           12               2014  \n",
      "64           59               1977  \n",
      "66           66               1962  \n",
      "67            6               2036  \n",
      "72           17               2023  \n",
      "78           52               1990  \n",
      "81            2               2029  \n",
      "82           23               2014  \n",
      "87           24               2015  \n",
      "92           36               1991  \n"
     ]
    }
   ],
   "source": [
    "from datetime import datetime\n",
    "\n",
    "# Ensure BirthDate is in datetime format\n",
    "df_bank_datefix['BirthDate'] = pd.to_datetime(df_bank_datefix['BirthDate'], errors='coerce')\n",
    "\n",
    "# Calculate customer age\n",
    "current_year = datetime.now().year\n",
    "df_bank_datefix['CustomerAge'] = current_year - df_bank_datefix['BirthDate'].dt.year\n",
    "\n",
    "# Identify customers older than 120 years\n",
    "old_customers = df_bank_datefix[df_bank_datefix['CustomerAge'] > 120]\n",
    "print(\"Customers older than 120 years:\")\n",
    "print(old_customers)\n",
    "\n",
    "# Identify customers younger than 18 years\n",
    "young_customers = df_bank_datefix[df_bank_datefix['CustomerAge'] < 18]\n",
    "print(\"Customers younger than 18 years:\")\n",
    "print(young_customers)\n",
    "\n",
    "# Ensure AccountOpened is in datetime format\n",
    "df_bank_datefix['AccountOpened'] = pd.to_datetime(df_bank_datefix['AccountOpened'], errors='coerce')\n",
    "\n",
    "# Identify rows with future account opening dates\n",
    "future_accounts = df_bank_datefix[df_bank_datefix['AccountOpened'] > datetime.now()]\n",
    "print(\"Accounts with future AccountOpened dates:\")\n",
    "print(future_accounts)\n",
    "\n",
    "# Identify inconsistent ages and account dates\n",
    "df_bank_datefix['AccountOpenedYear'] = df_bank_datefix['AccountOpened'].dt.year\n",
    "inconsistent_ages = df_bank_datefix[(df_bank_datefix['CustomerAge'] - \n",
    "                                     (current_year - df_bank_datefix['AccountOpenedYear']) < 18)]\n",
    "print(\"Inconsistent ages and account opening dates:\")\n",
    "print(inconsistent_ages)\n"
   ]
  },
  {
   "cell_type": "markdown",
   "id": "63be984a-21d0-43e7-8a55-fb8a67b8a351",
   "metadata": {},
   "source": [
    "11. Use Matplotlib and/or Seaborn to analyse the ages at which customers open their account.  Is there a connection between the year they are born vs. the age at which they open the account?  Graph this in whatever way you think is best."
   ]
  },
  {
   "cell_type": "markdown",
   "id": "84574af6-9f3a-481a-843a-877388973ef2",
   "metadata": {},
   "source": [
    "I asked Google and ChatGPT: \"How can I plot dates vs. dates in Matplotlib\".  This gave me a hard time at first - I had to tell ChatGPT it was giving me the wrong information because it tried to plot dates vs. numbers.  Eventually, I found out that you plot dates vs. dates in the same way you'd plot numbers vs. numbers.\n",
    "\n",
    "Think in terms of Storytelling With Data to plot these as best you can.  Once you've seen the result, try to think of the best way to plot the data so as to show the user what you want them to see.  Title the graph so as to display the lesson that you want the user to take away.\n",
    "Here are some options for the axes:\n",
    "\n",
    "1. A scatter or line plot: On the x-axis, the date they are born.  On the y-axis, the date they open the account.\n",
    "2. A scatter or line plot: On the x-axis, the date they are born.  On the y-axis, the age in years at which they open the account.\n",
    "3. A scatter or line plot: On the x-axis, they year (integer) they are born.  On the y-axis, the age in years at which they open the account.\n",
    "4. A histogram: on the x-axis, the age at which they open the account.\n",
    "\n",
    "Here is an example:"
   ]
  },
  {
   "cell_type": "code",
   "execution_count": 84,
   "id": "453acced-f7b1-4bb5-943d-716ae0505ace",
   "metadata": {},
   "outputs": [
    {
     "data": {
      "image/png": "[encoded data removed]",
      "text/plain": [
       "<Figure size 1000x600 with 1 Axes>"
      ]
     },
     "metadata": {},
     "output_type": "display_data"
    },
    {
     "data": {
      "image/png": "[encoded data removed]",
      "text/plain": [
       "<Figure size 1000x600 with 1 Axes>"
      ]
     },
     "metadata": {},
     "output_type": "display_data"
    },
    {
     "data": {
      "image/png": "[encoded data removed]",
      "text/plain": [
       "<Figure size 1000x600 with 1 Axes>"
      ]
     },
     "metadata": {},
     "output_type": "display_data"
    }
   ],
   "source": [
    "# Ensure 'BirthDate' and 'AccountOpened' are in datetime format\n",
    "df_bank_datefix['BirthDate'] = pd.to_datetime(df_bank_datefix['BirthDate'], errors='coerce')\n",
    "df_bank_datefix['AccountOpened'] = pd.to_datetime(df_bank_datefix['AccountOpened'], errors='coerce')\n",
    "\n",
    "# Calculate the age at which the customer opened their account\n",
    "df_bank_datefix['AgeAtAccountOpened'] = (df_bank_datefix['AccountOpened'].dt.year - \n",
    "                                         df_bank_datefix['BirthDate'].dt.year)\n",
    "\n",
    "import matplotlib.pyplot as plt\n",
    "\n",
    "# Scatter plot: Birth year vs. account opening year\n",
    "plt.figure(figsize=(10, 6))\n",
    "plt.scatter(df_bank_datefix['BirthDate'].dt.year, df_bank_datefix['AccountOpened'].dt.year, alpha=0.6)\n",
    "plt.title('Relationship Between Birth Year and Account Opening Year')\n",
    "plt.xlabel('Year of Birth')\n",
    "plt.ylabel('Year of Account Opened')\n",
    "plt.grid(True)\n",
    "plt.show()\n",
    "\n",
    "# Scatter plot: Birth year vs. age at account opening\n",
    "plt.figure(figsize=(10, 6))\n",
    "plt.scatter(df_bank_datefix['BirthDate'].dt.year, df_bank_datefix['AgeAtAccountOpened'], alpha=0.6)\n",
    "plt.title('Age at Account Opening vs. Year of Birth')\n",
    "plt.xlabel('Year of Birth')\n",
    "plt.ylabel('Age at Account Opening')\n",
    "plt.grid(True)\n",
    "plt.show()\n",
    "\n",
    "import seaborn as sns\n",
    "\n",
    "# Histogram: Age at account opening\n",
    "plt.figure(figsize=(10, 6))\n",
    "sns.histplot(df_bank_datefix['AgeAtAccountOpened'], bins=10, kde=True, color='blue')\n",
    "plt.title('Distribution of Ages at Account Opening')\n",
    "plt.xlabel('Age at Account Opening')\n",
    "plt.ylabel('Frequency')\n",
    "plt.show()\n"
   ]
  },
  {
   "cell_type": "markdown",
   "id": "f5d2ca82-ea81-46e5-9002-8321987d08d9",
   "metadata": {},
   "source": [
    "# 4. Storytelling With Data graph"
   ]
  },
  {
   "cell_type": "markdown",
   "id": "b00e6940-4a0c-4b3e-93dd-460239bf9940",
   "metadata": {},
   "source": [
    "Choose any graph in the Introduction of Storytelling With Data.  Using matplotlib to reproduce it in a rough way.  I don't expect you to spend an enormous amount of time on this; I understand that you likely will not have time to re-create every feature of the graph.  However, if you're excited about learning to use matplotlib, this is a good way to do that.  You don't have to duplicate the exact values on the graph; just the same rough shape will be enough.  If you don't feel comfortable using matplotlib yet, do the best you can and write down what you tried or what Google searches you did to find the answers."
   ]
  },
  {
   "cell_type": "code",
   "execution_count": 85,
   "id": "c023ff6f-f3c8-4df7-a7a6-191e70bcb362",
   "metadata": {},
   "outputs": [
    {
     "data": {
      "image/png": "[encoded data removed]",
      "text/plain": [
       "<Figure size 800x500 with 1 Axes>"
      ]
     },
     "metadata": {},
     "output_type": "display_data"
    }
   ],
   "source": [
    "import matplotlib.pyplot as plt\n",
    "\n",
    "# Example data (you can modify this to fit the graph you’re recreating)\n",
    "categories = ['Checking', 'Savings', 'CD']\n",
    "values = [50, 30, 20]\n",
    "\n",
    "# Create the bar chart\n",
    "plt.figure(figsize=(8, 5))\n",
    "plt.bar(categories, values, color=['blue', 'orange', 'green'])\n",
    "\n",
    "# Add title and labels\n",
    "plt.title('Number of Customers by Account Type', fontsize=14)\n",
    "plt.xlabel('Account Type', fontsize=12)\n",
    "plt.ylabel('Number of Customers', fontsize=12)\n",
    "\n",
    "# Show grid for readability\n",
    "plt.grid(axis='y', linestyle='--', alpha=0.7)\n",
    "\n",
    "# Display the graph\n",
    "plt.show()\n"
   ]
  }
 ],
 "metadata": {
  "kernelspec": {
   "display_name": "Python 3",
   "language": "python",
   "name": "python3"
  },
  "language_info": {
   "codemirror_mode": {
    "name": "ipython",
    "version": 3
   },
   "file_extension": ".py",
   "mimetype": "text/x-python",
   "name": "python",
   "nbconvert_exporter": "python",
   "pygments_lexer": "ipython3",
   "version": "3.12.1"
  }
 },
 "nbformat": 4,
 "nbformat_minor": 5
}
